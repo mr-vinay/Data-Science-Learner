{
 "cells": [
  {
   "cell_type": "code",
   "execution_count": 4,
   "id": "3101a65a",
   "metadata": {
    "scrolled": true
   },
   "outputs": [
    {
     "name": "stdout",
     "output_type": "stream",
     "text": [
      "0\n",
      "I don't want any spam\n",
      "SPAM SPAM SPAM SPAM \n"
     ]
    }
   ],
   "source": [
    "spam_amount=0\n",
    "print(spam_amount)\n",
    "\n",
    "#\n",
    "spam_amount=spam_amount+4\n",
    "if(spam_amount>0):\n",
    "    print(\"I don't want any spam\")\n",
    "\n",
    "# String and multiplication of int value make concatenation of string 'int' times\n",
    "viking_song=\"SPAM \" * spam_amount\n",
    "print(viking_song)"
   ]
  },
  {
   "cell_type": "code",
   "execution_count": null,
   "id": "79d999b9",
   "metadata": {},
   "outputs": [],
   "source": [
    "#The * operator can be used to multiply two numbers (3 * 3 evaluates to 9), but we can also multiply a string by a number, \n",
    "# to get a version that's been repeated that many times. Python offers a number of cheeky little time-saving tricks like \n",
    "#this where operators like * and + have a different meaning depending on what kind of thing they're applied to"
   ]
  },
  {
   "cell_type": "code",
   "execution_count": 6,
   "id": "f26b4b99",
   "metadata": {},
   "outputs": [
    {
     "ename": "TypeError",
     "evalue": "can't multiply sequence by non-int of type 'float'",
     "output_type": "error",
     "traceback": [
      "\u001b[1;31m---------------------------------------------------------------------------\u001b[0m",
      "\u001b[1;31mTypeError\u001b[0m                                 Traceback (most recent call last)",
      "\u001b[1;32m<ipython-input-6-7ec23d491216>\u001b[0m in \u001b[0;36m<module>\u001b[1;34m\u001b[0m\n\u001b[0;32m      1\u001b[0m \u001b[0mfloat_val\u001b[0m\u001b[1;33m=\u001b[0m\u001b[1;36m2.5\u001b[0m\u001b[1;33m\u001b[0m\u001b[1;33m\u001b[0m\u001b[0m\n\u001b[1;32m----> 2\u001b[1;33m \u001b[0mv_s\u001b[0m \u001b[1;33m=\u001b[0m \u001b[1;34m\"Spam \"\u001b[0m\u001b[1;33m*\u001b[0m \u001b[0mfloat_val\u001b[0m\u001b[1;33m\u001b[0m\u001b[1;33m\u001b[0m\u001b[0m\n\u001b[0m\u001b[0;32m      3\u001b[0m \u001b[0mprint\u001b[0m\u001b[1;33m(\u001b[0m\u001b[0mv_s\u001b[0m\u001b[1;33m)\u001b[0m\u001b[1;33m\u001b[0m\u001b[1;33m\u001b[0m\u001b[0m\n",
      "\u001b[1;31mTypeError\u001b[0m: can't multiply sequence by non-int of type 'float'"
     ]
    }
   ],
   "source": [
    "# String and multiplication of float value throws error\n",
    "float_val=2.5\n",
    "v_s = \"Spam \"* float_val\n",
    "print(v_s)"
   ]
  },
  {
   "cell_type": "code",
   "execution_count": null,
   "id": "9efa6fea",
   "metadata": {},
   "outputs": [],
   "source": []
  }
 ],
 "metadata": {
  "kernelspec": {
   "display_name": "Python 3",
   "language": "python",
   "name": "python3"
  },
  "language_info": {
   "codemirror_mode": {
    "name": "ipython",
    "version": 3
   },
   "file_extension": ".py",
   "mimetype": "text/x-python",
   "name": "python",
   "nbconvert_exporter": "python",
   "pygments_lexer": "ipython3",
   "version": "3.8.8"
  }
 },
 "nbformat": 4,
 "nbformat_minor": 5
}
